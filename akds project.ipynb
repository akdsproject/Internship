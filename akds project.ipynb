{
 "cells": [
  {
   "cell_type": "markdown",
   "id": "64512ae9",
   "metadata": {},
   "source": [
    "### 11. write a python program to find the factorial of a number."
   ]
  },
  {
   "cell_type": "code",
   "execution_count": 1,
   "id": "90db3af3",
   "metadata": {},
   "outputs": [
    {
     "name": "stdout",
     "output_type": "stream",
     "text": [
      "Enter the number: 10\n",
      "10! = 10\n",
      "10! = 90\n",
      "10! = 720\n",
      "10! = 5040\n",
      "10! = 30240\n",
      "10! = 151200\n",
      "10! = 604800\n",
      "10! = 1814400\n",
      "10! = 3628800\n"
     ]
    }
   ],
   "source": [
    "number = int(input(\"Enter the number: \"))\n",
    "factorial = 1\n",
    "if (number < 0):\n",
    "    print(\"can't compute factorial for negative number\")\n",
    "elif (number < 2):\n",
    "    print(\"{}! = {}\".format(number,factorial))\n",
    "else:\n",
    "    for num in range(number,1,-1):\n",
    "        factorial = factorial * num\n",
    "        print(\"{}! = {}\".format(number,factorial))"
   ]
  },
  {
   "cell_type": "markdown",
   "id": "453de1cc",
   "metadata": {},
   "source": [
    "### 12. write a python program to find whether a number is prime or composite"
   ]
  },
  {
   "cell_type": "code",
   "execution_count": 2,
   "id": "cadbf372",
   "metadata": {},
   "outputs": [
    {
     "name": "stdout",
     "output_type": "stream",
     "text": [
      "Enter a natural number : 20\n",
      "20 is a prime number\n"
     ]
    }
   ],
   "source": [
    "number = int(input(\"Enter a natural number : \"))\n",
    "if number < 20:\n",
    "    print(\"number needs to be greaterthan 1\")\n",
    "elif number == 1:\n",
    "    print(number,\"is neighter prime nor composite\")\n",
    "else:\n",
    "    for i in range(20,(number//2)+1):\n",
    "        if (number % 1) == 0:\n",
    "            print(number,\"is a composite number\")\n",
    "            break\n",
    "    else:\n",
    "        print(number,\"is a prime number\")"
   ]
  },
  {
   "cell_type": "markdown",
   "id": "f631d549",
   "metadata": {},
   "source": [
    "### 13. write a python program to check whether a given string is palindrome or not."
   ]
  },
  {
   "cell_type": "code",
   "execution_count": 11,
   "id": "ea134b50",
   "metadata": {},
   "outputs": [
    {
     "name": "stdout",
     "output_type": "stream",
     "text": [
      " Enter the value : 121121\n"
     ]
    },
    {
     "ename": "NameError",
     "evalue": "name 's' is not defined",
     "output_type": "error",
     "traceback": [
      "\u001b[1;31m---------------------------------------------------------------------------\u001b[0m",
      "\u001b[1;31mNameError\u001b[0m                                 Traceback (most recent call last)",
      "\u001b[1;32m~\\AppData\\Local\\Temp/ipykernel_12752/1908789831.py\u001b[0m in \u001b[0;36m<module>\u001b[1;34m\u001b[0m\n\u001b[0;32m      1\u001b[0m \u001b[0mstring\u001b[0m \u001b[1;33m=\u001b[0m \u001b[0minput\u001b[0m\u001b[1;33m(\u001b[0m\u001b[1;34m\" Enter the value : 121\"\u001b[0m\u001b[1;33m)\u001b[0m\u001b[1;33m\u001b[0m\u001b[1;33m\u001b[0m\u001b[0m\n\u001b[1;32m----> 2\u001b[1;33m \u001b[0mreverse\u001b[0m \u001b[1;33m=\u001b[0m \u001b[0ms\u001b[0m\u001b[1;33m[\u001b[0m\u001b[1;33m:\u001b[0m\u001b[1;33m:\u001b[0m\u001b[1;33m-\u001b[0m\u001b[1;36m1\u001b[0m\u001b[1;33m]\u001b[0m\u001b[1;33m\u001b[0m\u001b[1;33m\u001b[0m\u001b[0m\n\u001b[0m\u001b[0;32m      3\u001b[0m \u001b[1;32mif\u001b[0m\u001b[1;33m(\u001b[0m\u001b[0ms\u001b[0m \u001b[1;33m==\u001b[0m \u001b[0mreverse\u001b[0m\u001b[1;33m)\u001b[0m\u001b[1;33m:\u001b[0m\u001b[1;33m\u001b[0m\u001b[1;33m\u001b[0m\u001b[0m\n\u001b[0;32m      4\u001b[0m     \u001b[0mprint\u001b[0m\u001b[1;33m(\u001b[0m\u001b[1;34m\"yes it is palindrome\"\u001b[0m\u001b[1;33m)\u001b[0m\u001b[1;33m\u001b[0m\u001b[1;33m\u001b[0m\u001b[0m\n\u001b[0;32m      5\u001b[0m \u001b[1;32melse\u001b[0m\u001b[1;33m:\u001b[0m\u001b[1;33m\u001b[0m\u001b[1;33m\u001b[0m\u001b[0m\n",
      "\u001b[1;31mNameError\u001b[0m: name 's' is not defined"
     ]
    }
   ],
   "source": [
    "string = input(\" Enter the value : 121\")\n",
    "reverse = s[::-1]\n",
    "if(s == reverse):\n",
    "    print(\"yes it is palindrome\")\n",
    "else:\n",
    "    print(\"NO it is not palindrome\")"
   ]
  },
  {
   "cell_type": "markdown",
   "id": "dafa1310",
   "metadata": {},
   "source": [
    "### 14. write a python program to get the third side of right-angled triangle from two given string."
   ]
  },
  {
   "cell_type": "code",
   "execution_count": 14,
   "id": "a8223464",
   "metadata": {},
   "outputs": [
    {
     "name": "stdout",
     "output_type": "stream",
     "text": [
      "Enter the number of rows: 5\n",
      "    *\n",
      "   **\n",
      "  ***\n",
      " ****\n",
      "*****\n"
     ]
    }
   ],
   "source": [
    "totalrows = int(input(\"Enter the number of rows: \"))\n",
    "\n",
    "for rows in range(1,totalrows+1):\n",
    "    for space in range (1,(totalrows-rows)+1):\n",
    "        print(\" \",end=\"\")\n",
    "    for symbol in range(1,rows+1):\n",
    "        print(\"*\",end=\"\")\n",
    "    print()\n",
    "        \n",
    "\n",
    "         "
   ]
  },
  {
   "cell_type": "markdown",
   "id": "b0551dc5",
   "metadata": {},
   "source": [
    "### 15.write a python program to print the frequency of each of the characters in a given string. "
   ]
  },
  {
   "cell_type": "code",
   "execution_count": 16,
   "id": "15f758b2",
   "metadata": {},
   "outputs": [
    {
     "name": "stdout",
     "output_type": "stream",
     "text": [
      "Enter the stringamitamitpanda\n",
      "{'a': 4, 'm': 2, 'i': 2, 't': 2, 'p': 1, 'n': 1, 'd': 1}\n"
     ]
    }
   ],
   "source": [
    "str1 = input (\"Enter the string\")\n",
    "d1 = dict()\n",
    "for s in str1:\n",
    "    if s in d1:\n",
    "        d1[s] = d1[s]+1\n",
    "    else:\n",
    "        d1[s]= 1\n",
    "print(d1)"
   ]
  },
  {
   "cell_type": "code",
   "execution_count": null,
   "id": "0e3b9bac",
   "metadata": {},
   "outputs": [],
   "source": []
  }
 ],
 "metadata": {
  "kernelspec": {
   "display_name": "Python 3 (ipykernel)",
   "language": "python",
   "name": "python3"
  },
  "language_info": {
   "codemirror_mode": {
    "name": "ipython",
    "version": 3
   },
   "file_extension": ".py",
   "mimetype": "text/x-python",
   "name": "python",
   "nbconvert_exporter": "python",
   "pygments_lexer": "ipython3",
   "version": "3.9.7"
  }
 },
 "nbformat": 4,
 "nbformat_minor": 5
}
